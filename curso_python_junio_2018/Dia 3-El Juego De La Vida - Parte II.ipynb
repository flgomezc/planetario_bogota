{
 "cells": [
  {
   "cell_type": "markdown",
   "metadata": {},
   "source": [
    "# El Juego de la Vida de Conway\n",
    "\n",
    "Cada celda puede estar viva o muerta. Este será el estado de la celda. Cada celda tiene ocho celdas vecinas.\n",
    "\n",
    "Todas las celdas evolucionan al mismo tiempo según tres reglas:\n",
    "\n",
    "* Una celda viva con 2 o 3 celdas vecinas vivas sigue viva.\n",
    "* Una celda muerta con exactamente 3 celdas vecinas vivas se convierte en una celda viva.\n",
    "* En los demás casos las celdas mueren o siguen muertas.\n",
    "\n",
    "Referencias: \n",
    "\n",
    "* Wikipedia https://es.wikipedia.org/wiki/Juego_de_la_vida\n",
    "\n",
    "* Desarrollo en Python https://jakevdp.github.io/blog/2013/08/07/conways-game-of-life/\n",
    "\n",
    "\n",
    "### Ejercicio:\n",
    "\n",
    "1. Correr el código para ver la evolución de una barra.\n",
    "2. En las condiciones iniciales activar el deslizador (removiendo el hashtag \"\\#\")\n",
    "3. Aumentar el tamaño del universo\n",
    "4. Añadir más elementos al universo\n",
    "5. Aumentar el tiempo de evolución"
   ]
  },
  {
   "cell_type": "code",
   "execution_count": null,
   "metadata": {},
   "outputs": [],
   "source": [
    "# Ejecutar solo la primera vez.\n",
    "\n",
    "%pylab inline\n",
    "import matplotlib.animation"
   ]
  },
  {
   "cell_type": "code",
   "execution_count": 2,
   "metadata": {},
   "outputs": [
    {
     "data": {
      "text/plain": [
       "<matplotlib.image.AxesImage at 0x7f9a4f66bf98>"
      ]
     },
     "execution_count": 2,
     "metadata": {},
     "output_type": "execute_result"
    },
    {
     "data": {
      "image/png": "[encoded data removed]",
      "text/plain": [
       "<Figure size 432x288 with 1 Axes>"
      ]
     },
     "metadata": {},
     "output_type": "display_data"
    }
   ],
   "source": [
    "# Esta celda de código define las condiciones iniciales.\n",
    "\n",
    "# Tamaño del mundo\n",
    "#   N x N píxeles.\n",
    "N = 20\n",
    "\n",
    "matrix = zeros([N,N])\n",
    "\n",
    "# Una barra que gira\n",
    "matrix[13,3] = 1\n",
    "matrix[13,4] = 1\n",
    "matrix[13,5] = 1\n",
    "\n",
    "# Un cuadrito solito\n",
    "matrix[16,16] = 1\n",
    "\n",
    "\n",
    "# Un deslizador\n",
    "#matrix[4,4] = 1\n",
    "#matrix[4,5] = 1\n",
    "#matrix[4,6] = 1\n",
    "#matrix[3,6] = 1\n",
    "#matrix[2,5] = 1\n",
    "\n",
    "imshow(matrix, cmap=\"gray\")"
   ]
  },
  {
   "cell_type": "code",
   "execution_count": null,
   "metadata": {},
   "outputs": [],
   "source": [
    "# Esta celda de código evoluciona el sistema\n",
    "\n",
    "# Crear una lista de imágenes\n",
    "imagelist = []\n",
    "\n",
    "# Colocar el primer elemento: el estado inicial \n",
    "imagelist.append(matrix[:])\n",
    "\n",
    "\n",
    "# Tiempo total del universo\n",
    "T = 10\n",
    "\n",
    "\n",
    "for t in range(T):\n",
    "    \n",
    "    nueva_matrix = zeros([N,N])\n",
    "    \n",
    "    for i in range(N):\n",
    "        for j in range(N):\n",
    "\n",
    "            I = i+1\n",
    "            if(I == N):\n",
    "                I = 0\n",
    "            \n",
    "            J = j+1\n",
    "            if(J == N):\n",
    "                J = 0\n",
    "\n",
    "            estado = matrix[i,j]\n",
    "            vecinos_vivos = (matrix[i-1,j-1] + matrix[i,j-1] + matrix[I,j-1] + \n",
    "                             matrix[i-1,j]                   + matrix[I,j] + \n",
    "                             matrix[i-1,J] + matrix[i,J] + matrix[I,J])\n",
    "\n",
    "            if ((estado==1) and ((vecinos_vivos == 2) or ( vecinos_vivos == 3))):\n",
    "                nuevo_estado = 1\n",
    "            else: \n",
    "                if ( (estado==0) and (vecinos_vivos == 3)):\n",
    "                    nuevo_estado = 1\n",
    "                else: \n",
    "                    nuevo_estado = 0\n",
    "\n",
    "            nueva_matrix[i,j] = nuevo_estado\n",
    "    \n",
    "    # Cambiar al nuevo \n",
    "    matrix = nueva_matrix[:]\n",
    "    imagelist.append(matrix[:])            \n"
   ]
  },
  {
   "cell_type": "code",
   "execution_count": null,
   "metadata": {},
   "outputs": [],
   "source": [
    "# Esta celda de código grafica y genera la animación.\n",
    "\n",
    "%matplotlib tk\n",
    "\n",
    "fig = plt.figure(figsize=([7,7])) # make figure\n",
    "\n",
    "# make axesimage object\n",
    "# the vmin and vmax here are very important to get the color map correct\n",
    "im = plt.imshow(imagelist[0], cmap=plt.get_cmap('gray'), vmin=0, vmax=1)\n",
    "\n",
    "\n",
    "# function to update figure\n",
    "def updatefig(j):\n",
    "    # set the data in the axesimage object\n",
    "    plt.title(\"Tiempo = \"+str(j))\n",
    "    im.set_array(imagelist[j])\n",
    "    # return the artists set\n",
    "    return [im]\n",
    "# kick off the animation\n",
    "ani = matplotlib.animation.FuncAnimation(fig, updatefig, frames=range(T), \n",
    "                              interval=250, blit=False)\n"
   ]
  }
 ],
 "metadata": {
  "kernelspec": {
   "display_name": "Python 3",
   "language": "python",
   "name": "python3"
  },
  "language_info": {
   "codemirror_mode": {
    "name": "ipython",
    "version": 3
   },
   "file_extension": ".py",
   "mimetype": "text/x-python",
   "name": "python",
   "nbconvert_exporter": "python",
   "pygments_lexer": "ipython3",
   "version": "3.6.5"
  }
 },
 "nbformat": 4,
 "nbformat_minor": 2
}
