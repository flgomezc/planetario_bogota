{
 "cells": [
  {
   "cell_type": "markdown",
   "metadata": {},
   "source": [
    "\n",
    "# Datos ultra reales del SDSS\n",
    "\n",
    "1. Entrar a la página de SDSS\n",
    "\n",
    "http://cas.sdss.org/dr7/en/tools/search/sql.asp\n",
    "\n",
    "2. Descargar este catálogo de galaxias con la siguiente información:\n",
    "\n",
    "Redshift (z), Ascención recta (ra), Declinación (dec)\n",
    "\n",
    "\n",
    "Galaxias (specClass=2) con redshift entre 0 y 0.05, declinación entre -3º y 3º, y asención recta entre 0 y 360º\n",
    "\n",
    "~~~~ \n",
    "SELECT STR(z,10,6) z, ra, dec\n",
    "\n",
    "FROM specObj\n",
    "\n",
    "WHERE specClass=2 AND dec BETWEEN -3 AND 3 AND ra BETWEEN 0 AND 360\n",
    "\n",
    "AND z BETWEEN 0 AND 0.05\n",
    "~~~~ "
   ]
  },
  {
   "cell_type": "code",
   "execution_count": null,
   "metadata": {},
   "outputs": [],
   "source": [
    "%pylab inline"
   ]
  },
  {
   "cell_type": "code",
   "execution_count": null,
   "metadata": {},
   "outputs": [],
   "source": [
    "datos = genfromtxt('result.csv', delimiter=',', skip_header=1)"
   ]
  },
  {
   "cell_type": "code",
   "execution_count": null,
   "metadata": {},
   "outputs": [],
   "source": [
    "datos"
   ]
  },
  {
   "cell_type": "code",
   "execution_count": null,
   "metadata": {},
   "outputs": [],
   "source": [
    "datos.shape"
   ]
  },
  {
   "cell_type": "code",
   "execution_count": null,
   "metadata": {},
   "outputs": [],
   "source": [
    "def z_to_Mly( z):\n",
    "    \"\"\"Esta función convierte el corrimiento al rojo (z) a distancia en millones de años luz (Mly)\"\"\"\n",
    "    Mly = 3.26 * (   3000 * z \n",
    "                  - 607.8 * z**2 \n",
    "                  - 156.3 * z**3 \n",
    "                  + 138.3 * z ** 4) / 0.71   \n",
    "    return Mly\n",
    "\n",
    "def coord_to_x(Mly,ra):\n",
    "    return Mly * cos( ra * pi / 180)\n",
    "\n",
    "def coord_to_y(Mly,ra):\n",
    "    return Mly * sin( ra * pi / 180)"
   ]
  },
  {
   "cell_type": "code",
   "execution_count": null,
   "metadata": {},
   "outputs": [],
   "source": [
    "CoordenadaX = []\n",
    "CoordenadaY = []\n",
    "\n",
    "for i in range( datos.shape[0] ):\n",
    "    z   = datos[i,0]\n",
    "    ra  = datos[i,1]\n",
    "    \n",
    "    x = coord_to_x(z,ra)\n",
    "    y = coord_to_y(z,ra)\n",
    "    \n",
    "    CoordenadaX.append(x)\n",
    "    CoordenadaY.append(y)"
   ]
  },
  {
   "cell_type": "code",
   "execution_count": null,
   "metadata": {},
   "outputs": [],
   "source": [
    "size(CoordenadaX)"
   ]
  },
  {
   "cell_type": "code",
   "execution_count": null,
   "metadata": {},
   "outputs": [],
   "source": [
    "size(CoordenadaY)"
   ]
  },
  {
   "cell_type": "code",
   "execution_count": null,
   "metadata": {},
   "outputs": [],
   "source": [
    "scatter(CoordenadaX, CoordenadaY)"
   ]
  },
  {
   "cell_type": "code",
   "execution_count": null,
   "metadata": {},
   "outputs": [],
   "source": [
    "fig = figure(figsize=(10,10))\n",
    "title(\"Mapa de Galaxias del SDSS\")\n",
    "scatter(CoordenadaX, CoordenadaY, s=0.2, c=\"k\")\n",
    "xlabel(\"Coordenada X en Millones de Años Luz (Mly)\")\n",
    "ylabel(\"Coordenada Y en Millones de Años Luz (Mly)\")\n",
    "\n",
    "plt.axis('equal')"
   ]
  },
  {
   "cell_type": "code",
   "execution_count": null,
   "metadata": {},
   "outputs": [],
   "source": []
  }
 ],
 "metadata": {
  "kernelspec": {
   "display_name": "Python 3",
   "language": "python",
   "name": "python3"
  },
  "language_info": {
   "codemirror_mode": {
    "name": "ipython",
    "version": 3
   },
   "file_extension": ".py",
   "mimetype": "text/x-python",
   "name": "python",
   "nbconvert_exporter": "python",
   "pygments_lexer": "ipython3",
   "version": "3.6.5"
  }
 },
 "nbformat": 4,
 "nbformat_minor": 2
}
