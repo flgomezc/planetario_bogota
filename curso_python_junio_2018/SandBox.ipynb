{
 "cells": [
  {
   "cell_type": "markdown",
   "metadata": {},
   "source": [
    "<img align=\"right\" width=\"100\" height=\"100\" src=\"https://raw.githubusercontent.com/flgomezc/planetario_bogota/master/images/logo_planetario.png\">\n",
    "\n",
    "# Curso de Programación en Python\n",
    "\n",
    "## Junio de 2018\n",
    "\n",
    "Felipe L Gómez-Cortés   ----> e-mail: felipe.gomez at idartes.gov.co\n",
    "\n",
    "# ~(˘▾˘~)"
   ]
  },
  {
   "cell_type": "code",
   "execution_count": null,
   "metadata": {},
   "outputs": [],
   "source": []
  }
 ],
 "metadata": {
  "kernelspec": {
   "display_name": "Python 3",
   "language": "python",
   "name": "python3"
  },
  "language_info": {
   "codemirror_mode": {
    "name": "ipython",
    "version": 3
   },
   "file_extension": ".py",
   "mimetype": "text/x-python",
   "name": "python",
   "nbconvert_exporter": "python",
   "pygments_lexer": "ipython3",
   "version": "3.6.5"
  }
 },
 "nbformat": 4,
 "nbformat_minor": 2
}
