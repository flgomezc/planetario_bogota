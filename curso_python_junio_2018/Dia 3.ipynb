{
 "cells": [
  {
   "cell_type": "markdown",
   "metadata": {},
   "source": [
    "# El Juego de la Vida de Conway\n",
    "\n",
    "Cada celda puede estar viva o muerta. Este será el estado de la celda. Cada celda tiene ocho celdas vecinas.\n",
    "\n",
    "Todas las celdas evolucionan al mismo tiempo según tres reglas:\n",
    "\n",
    "* Una celda viva con 2 o 3 celdas vecinas vivas sigue viva.\n",
    "* Una celda muerta con exactamente 3 celdas vecinas vivas se convierte en una celda viva.\n",
    "* En los demás casos las celdas mueren o siguen muertas.\n",
    "\n",
    "Referencias: \n",
    "\n",
    "* Wikipedia https://es.wikipedia.org/wiki/Juego_de_la_vida\n",
    "\n",
    "* Desarrollo en Python https://jakevdp.github.io/blog/2013/08/07/conways-game-of-life/"
   ]
  },
  {
   "cell_type": "code",
   "execution_count": 1,
   "metadata": {},
   "outputs": [
    {
     "name": "stdout",
     "output_type": "stream",
     "text": [
      "Populating the interactive namespace from numpy and matplotlib\n"
     ]
    }
   ],
   "source": [
    "%pylab inline"
   ]
  },
  {
   "cell_type": "code",
   "execution_count": 2,
   "metadata": {},
   "outputs": [],
   "source": [
    "N = 10\n",
    "\n",
    "matrix = zeros([N,N])"
   ]
  },
  {
   "cell_type": "code",
   "execution_count": 9,
   "metadata": {},
   "outputs": [],
   "source": [
    "matrix[3,3] = 1\n",
    "matrix[3,4] = 1\n",
    "matrix[3,5] = 1\n",
    "\n",
    "matrix[6,6] = 1"
   ]
  },
  {
   "cell_type": "code",
   "execution_count": 10,
   "metadata": {},
   "outputs": [
    {
     "data": {
      "text/plain": [
       "<matplotlib.image.AxesImage at 0x7f60810d9ef0>"
      ]
     },
     "execution_count": 10,
     "metadata": {},
     "output_type": "execute_result"
    },
    {
     "data": {
      "image/png": "[encoded data removed]",
      "text/plain": [
       "<Figure size 432x288 with 1 Axes>"
      ]
     },
     "metadata": {},
     "output_type": "display_data"
    }
   ],
   "source": [
    "imshow(matrix, cmap=\"gray\")"
   ]
  },
  {
   "cell_type": "code",
   "execution_count": 11,
   "metadata": {
    "scrolled": true
   },
   "outputs": [
    {
     "name": "stdout",
     "output_type": "stream",
     "text": [
      "0 0 0.0\n",
      "0 1 0.0\n",
      "0 2 0.0\n",
      "0 3 0.0\n",
      "0 4 0.0\n",
      "0 5 0.0\n",
      "0 6 0.0\n",
      "0 7 0.0\n",
      "0 8 0.0\n",
      "0 9 0.0\n",
      "1 0 0.0\n",
      "1 1 0.0\n",
      "1 2 0.0\n",
      "1 3 0.0\n",
      "1 4 0.0\n",
      "1 5 0.0\n",
      "1 6 0.0\n",
      "1 7 0.0\n",
      "1 8 0.0\n",
      "1 9 0.0\n",
      "2 0 0.0\n",
      "2 1 0.0\n",
      "2 2 0.0\n",
      "2 3 0.0\n",
      "2 4 0.0\n",
      "2 5 0.0\n",
      "2 6 0.0\n",
      "2 7 0.0\n",
      "2 8 0.0\n",
      "2 9 0.0\n",
      "3 0 0.0\n",
      "3 1 0.0\n",
      "3 2 0.0\n",
      "3 3 1.0\n",
      "3 4 1.0\n",
      "3 5 1.0\n",
      "3 6 0.0\n",
      "3 7 0.0\n",
      "3 8 0.0\n",
      "3 9 0.0\n",
      "4 0 0.0\n",
      "4 1 0.0\n",
      "4 2 0.0\n",
      "4 3 0.0\n",
      "4 4 0.0\n",
      "4 5 0.0\n",
      "4 6 0.0\n",
      "4 7 0.0\n",
      "4 8 0.0\n",
      "4 9 0.0\n",
      "5 0 0.0\n",
      "5 1 0.0\n",
      "5 2 0.0\n",
      "5 3 0.0\n",
      "5 4 0.0\n",
      "5 5 0.0\n",
      "5 6 0.0\n",
      "5 7 0.0\n",
      "5 8 0.0\n",
      "5 9 0.0\n",
      "6 0 0.0\n",
      "6 1 0.0\n",
      "6 2 0.0\n",
      "6 3 0.0\n",
      "6 4 0.0\n",
      "6 5 0.0\n",
      "6 6 1.0\n",
      "6 7 0.0\n",
      "6 8 0.0\n",
      "6 9 0.0\n",
      "7 0 0.0\n",
      "7 1 0.0\n",
      "7 2 0.0\n",
      "7 3 0.0\n",
      "7 4 0.0\n",
      "7 5 0.0\n",
      "7 6 0.0\n",
      "7 7 0.0\n",
      "7 8 0.0\n",
      "7 9 0.0\n",
      "8 0 0.0\n",
      "8 1 0.0\n",
      "8 2 0.0\n",
      "8 3 0.0\n",
      "8 4 0.0\n",
      "8 5 0.0\n",
      "8 6 0.0\n",
      "8 7 0.0\n",
      "8 8 0.0\n",
      "8 9 0.0\n",
      "9 0 0.0\n",
      "9 1 0.0\n",
      "9 2 0.0\n",
      "9 3 0.0\n",
      "9 4 0.0\n",
      "9 5 0.0\n",
      "9 6 0.0\n",
      "9 7 0.0\n",
      "9 8 0.0\n",
      "9 9 0.0\n"
     ]
    }
   ],
   "source": [
    "# Veamos el estado de las celdas.\n",
    "\n",
    "for i in range(0,N):\n",
    "    for j in range(0,N):\n",
    "        estado = matrix[i,j]\n",
    "        print (i, j, estado)"
   ]
  },
  {
   "cell_type": "code",
   "execution_count": 12,
   "metadata": {},
   "outputs": [
    {
     "name": "stdout",
     "output_type": "stream",
     "text": [
      "0.0\n",
      "0.0\n",
      "0.0\n",
      "0.0\n",
      "0.0\n",
      "0.0\n",
      "0.0\n",
      "0.0\n",
      "0.0\n",
      "1.0\n",
      "2.0\n",
      "3.0\n",
      "2.0\n",
      "1.0\n",
      "0.0\n",
      "0.0\n",
      "0.0\n",
      "1.0\n",
      "1.0\n",
      "2.0\n",
      "1.0\n",
      "1.0\n",
      "0.0\n",
      "0.0\n",
      "0.0\n",
      "1.0\n",
      "2.0\n",
      "3.0\n",
      "2.0\n",
      "1.0\n",
      "0.0\n",
      "0.0\n",
      "0.0\n",
      "0.0\n",
      "0.0\n",
      "0.0\n",
      "1.0\n",
      "1.0\n",
      "1.0\n",
      "0.0\n",
      "0.0\n",
      "0.0\n",
      "0.0\n",
      "0.0\n",
      "1.0\n",
      "0.0\n",
      "1.0\n",
      "0.0\n",
      "0.0\n",
      "0.0\n",
      "0.0\n",
      "0.0\n",
      "1.0\n",
      "1.0\n",
      "1.0\n",
      "0.0\n",
      "0.0\n",
      "0.0\n",
      "0.0\n",
      "0.0\n",
      "0.0\n",
      "0.0\n",
      "0.0\n",
      "0.0\n"
     ]
    }
   ],
   "source": [
    "# Primero vamos a contar los vecinos vivos que tiene cada celda.\n",
    "# Para eso usamos dos ciclos FOR, uno sobre i (eje x) y otro sobre j (eje y)\n",
    "\n",
    "for i in range(1,N-1):\n",
    "    for j in range(1,N-1):\n",
    "        estado = matrix[i,j]\n",
    "\n",
    "        \n",
    "        vecinos_vivos = (matrix[i-1,j-1] + matrix[i,j-1] + matrix[i+1,j-1] + \n",
    "                         matrix[i-1,j]                   + matrix[i+1,j] + \n",
    "                         matrix[i-1,j+1] + matrix[i,j+1] + matrix[i+1,j+1])\n",
    "        print(vecinos_vivos)"
   ]
  },
  {
   "cell_type": "code",
   "execution_count": 13,
   "metadata": {},
   "outputs": [],
   "source": [
    "# Como funciona y podemos hacer el conteo, aplicamos las reglas.\n",
    "\n",
    "nueva_matrix = zeros([N,N])\n",
    "\n",
    "for i in range(1,N-1):\n",
    "    for j in range(1,N-1):\n",
    "        \n",
    "        estado = matrix[i,j]\n",
    "        \n",
    "        vecinos_vivos = (matrix[i-1,j-1] + matrix[i,j-1] + matrix[i+1,j-1] + \n",
    "                         matrix[i-1,j]                   + matrix[i+1,j] + \n",
    "                         matrix[i-1,j+1] + matrix[i,j+1] + matrix[i+1,j+1])\n",
    "        \n",
    "        if ((estado==1) and ((vecinos_vivos == 2) or ( vecinos_vivos == 3))):\n",
    "            nuevo_estado = 1\n",
    "        else: \n",
    "            if ( (estado==0) and (vecinos_vivos == 3)):\n",
    "                nuevo_estado = 1\n",
    "            else: \n",
    "                nuevo_estado = 0\n",
    "            \n",
    "        nueva_matrix[i,j]=nuevo_estado"
   ]
  },
  {
   "cell_type": "code",
   "execution_count": 14,
   "metadata": {},
   "outputs": [
    {
     "data": {
      "text/plain": [
       "<matplotlib.image.AxesImage at 0x7f60810336a0>"
      ]
     },
     "execution_count": 14,
     "metadata": {},
     "output_type": "execute_result"
    },
    {
     "data": {
      "image/png": "[encoded data removed]",
      "text/plain": [
       "<Figure size 432x288 with 1 Axes>"
      ]
     },
     "metadata": {},
     "output_type": "display_data"
    }
   ],
   "source": [
    "imshow(nueva_matrix, cmap=\"gray\")"
   ]
  },
  {
   "cell_type": "code",
   "execution_count": 20,
   "metadata": {},
   "outputs": [],
   "source": [
    "# Corregir fronteras:\n",
    "\n",
    "# Como funciona y podemos hacer el conteo, aplicamos las reglas.\n",
    "\n",
    "nueva_matrix = zeros([N,N])\n",
    "\n",
    "for i in range(0,N):\n",
    "    for j in range(0,N):\n",
    "        \n",
    "        I = i+1\n",
    "        if(I == N):\n",
    "            I = -1\n",
    "        \n",
    "        J = j+1\n",
    "        if(J == N):\n",
    "            J = -1\n",
    "        \n",
    "        estado = matrix[i,j]\n",
    "        \n",
    "        vecinos_vivos = (matrix[i-1,j-1] + matrix[i,j-1] + matrix[I,j-1] + \n",
    "                         matrix[i-1,j]                   + matrix[I,j] + \n",
    "                         matrix[i-1,J] + matrix[i,J] + matrix[I,J])\n",
    "        \n",
    "        if ((estado==1) and ((vecinos_vivos == 2) or ( vecinos_vivos == 3))):\n",
    "            nuevo_estado = 1\n",
    "        else: \n",
    "            if ( (estado==0) and (vecinos_vivos == 3)):\n",
    "                nuevo_estado = 1\n",
    "            else: \n",
    "                nuevo_estado = 0\n",
    "            \n",
    "        nueva_matrix[i,j]=nuevo_estado"
   ]
  },
  {
   "cell_type": "code",
   "execution_count": 21,
   "metadata": {},
   "outputs": [
    {
     "data": {
      "text/plain": [
       "<matplotlib.image.AxesImage at 0x7f6080fc6828>"
      ]
     },
     "execution_count": 21,
     "metadata": {},
     "output_type": "execute_result"
    },
    {
     "data": {
      "image/png": "[encoded data removed]",
      "text/plain": [
       "<Figure size 432x288 with 1 Axes>"
      ]
     },
     "metadata": {},
     "output_type": "display_data"
    }
   ],
   "source": [
    "imshow(nueva_matrix,cmap=\"gray\")"
   ]
  },
  {
   "cell_type": "code",
   "execution_count": 25,
   "metadata": {},
   "outputs": [
    {
     "data": {
      "image/png": "[encoded data removed]",
      "text/plain": [
       "<Figure size 432x288 with 1 Axes>"
      ]
     },
     "metadata": {},
     "output_type": "display_data"
    }
   ],
   "source": [
    "# Repetir muchas veces\n",
    "\n",
    "T = 4\n",
    "\n",
    "for t in range(T):\n",
    "\n",
    "    nueva_matrix = zeros([N,N])\n",
    "\n",
    "    for i in range(0,N):\n",
    "        for j in range(0,N):\n",
    "\n",
    "            I = i+1\n",
    "            if(I == N):\n",
    "                I = -1\n",
    "\n",
    "            J = j+1\n",
    "            if(J == N):\n",
    "                J = -1\n",
    "\n",
    "            estado = matrix[i,j]\n",
    "\n",
    "            vecinos_vivos = (matrix[i-1,j-1] + matrix[i,j-1] + matrix[I,j-1] + \n",
    "                             matrix[i-1,j]                   + matrix[I,j] + \n",
    "                             matrix[i-1,J] + matrix[i,J] + matrix[I,J])\n",
    "\n",
    "            if ((estado==1) and ((vecinos_vivos == 2) or ( vecinos_vivos == 3))):\n",
    "                nuevo_estado = 1\n",
    "            else: \n",
    "                if ( (estado==0) and (vecinos_vivos == 3)):\n",
    "                    nuevo_estado = 1\n",
    "                else: \n",
    "                    nuevo_estado = 0\n",
    "\n",
    "            nueva_matrix[i,j]=nuevo_estado\n",
    "            \n",
    "    filename = \"tiempo_\"+str(t)\n",
    "    imsave(fname=filename, arr=nueva_matrix, cmap=\"gray\")"
   ]
  },
  {
   "cell_type": "code",
   "execution_count": null,
   "metadata": {},
   "outputs": [],
   "source": []
  }
 ],
 "metadata": {
  "kernelspec": {
   "display_name": "Python 3",
   "language": "python",
   "name": "python3"
  },
  "language_info": {
   "codemirror_mode": {
    "name": "ipython",
    "version": 3
   },
   "file_extension": ".py",
   "mimetype": "text/x-python",
   "name": "python",
   "nbconvert_exporter": "python",
   "pygments_lexer": "ipython3",
   "version": "3.6.5"
  }
 },
 "nbformat": 4,
 "nbformat_minor": 2
}
